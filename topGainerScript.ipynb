{
 "metadata": {
  "language_info": {
   "codemirror_mode": {
    "name": "ipython",
    "version": 3
   },
   "file_extension": ".py",
   "mimetype": "text/x-python",
   "name": "python",
   "nbconvert_exporter": "python",
   "pygments_lexer": "ipython3",
   "version": "3.9.2-final"
  },
  "orig_nbformat": 2,
  "kernelspec": {
   "name": "python392jvsc74a57bd0ac59ebe37160ed0dfa835113d9b8498d9f09ceb179beaac4002f036b9467c963",
   "display_name": "Python 3.9.2 64-bit"
  },
  "metadata": {
   "interpreter": {
    "hash": "ac59ebe37160ed0dfa835113d9b8498d9f09ceb179beaac4002f036b9467c963"
   }
  }
 },
 "nbformat": 4,
 "nbformat_minor": 2,
 "cells": [
  {
   "cell_type": "code",
   "execution_count": 280,
   "metadata": {},
   "outputs": [
    {
     "output_type": "stream",
     "name": "stdout",
     "text": [
      "2021-04-03 saturday\n"
     ]
    }
   ],
   "source": [
    "import datetime\n",
    "import csv\n",
    "import re\n",
    "import requests\n",
    "from bs4 import BeautifulSoup\n",
    "url = \"https://www.investcom.com/page/mpgtoronto.htm\"\n",
    "\n",
    "today = datetime.date.today()\n",
    "day = datetime.date.weekday(today)\n",
    "weekdays = {0:\"monday\",1:\"tuesday\",2:'wednesday',3:'thursday',4:'friday',5:'saturday',6:'sunday'}\n",
    "base = \"https://www.investcom.com/\"\n",
    "markets ={'TSX':'toronto','TSX Venture':'cdnx','NEX Board':'nex','CSE':'cse','US AMEX':'amex','US NASDAQ':'nasdaq','US NYSE':'nyse','US OTC':'bulletin'}\n",
    "types = {'Most Active':'mv','Top % Gainers':'mpg','Top % Losers':'mpl'}\n",
    "\n",
    "print(today, weekdays[day])\n",
    "header = ['date','day']\n",
    "data = [today, weekdays[day]]"
   ]
  },
  {
   "cell_type": "code",
   "execution_count": 281,
   "metadata": {},
   "outputs": [
    {
     "output_type": "stream",
     "name": "stdout",
     "text": [
      "2\n"
     ]
    }
   ],
   "source": [
    "fname = 'stonkStatistics.csv'\n",
    "csvfile = open(fname,'a+', newline = '')\n",
    "# reader = [i for i in csv.DictReader(csvfile)]\n",
    "spamreader = csv.reader(csvfile, delimiter = ',')\n",
    "spamwriter = csv.writer(csvfile, delimiter= ',')\n",
    "r = len(list(spamreader))\n",
    "lines = len(open(fname).readlines())\n",
    "print(lines)\n",
    "for market in markets:\n",
    "    for t in types:\n",
    "        header.append(market+' '+t)\n",
    "\n",
    "if lines == 0:\n",
    "    print('writing header')\n",
    "    spamwriter.writerow(header)"
   ]
  },
  {
   "cell_type": "code",
   "execution_count": 282,
   "metadata": {},
   "outputs": [],
   "source": [
    "def getStonkData(url):\n",
    "    page = requests.get(url)\n",
    "    soup = BeautifulSoup(page.content, 'html.parser')\n",
    "    results = soup.find('div', class_ = \"genTable\")\n",
    "    info = results.find_all('td', text=True)\n",
    "    stonks = [['symbol','company name','last','change','%change','volume']]\n",
    "    stonk = []\n",
    "    counter = 0\n",
    "    for i in info:\n",
    "        stonk.append(i.text)\n",
    "        counter+=1\n",
    "        if counter == 6:\n",
    "            stonks.append(stonk)\n",
    "            stonk = []\n",
    "            counter = 0\n",
    "    return stonks"
   ]
  },
  {
   "cell_type": "code",
   "execution_count": 283,
   "metadata": {},
   "outputs": [
    {
     "output_type": "stream",
     "name": "stdout",
     "text": [
      "['TSX', 'Most Active']\n",
      "['TSX', 'Top % Gainers']\n",
      "['TSX', 'Top % Losers']\n",
      "['TSX Venture', 'Most Active']\n",
      "['TSX Venture', 'Top % Gainers']\n",
      "['TSX Venture', 'Top % Losers']\n",
      "['NEX Board', 'Most Active']\n",
      "['NEX Board', 'Top % Gainers']\n",
      "['NEX Board', 'Top % Losers']\n",
      "['CSE', 'Most Active']\n",
      "['CSE', 'Top % Gainers']\n",
      "['CSE', 'Top % Losers']\n",
      "['US AMEX', 'Most Active']\n",
      "['US AMEX', 'Top % Gainers']\n",
      "['US AMEX', 'Top % Losers']\n",
      "['US NASDAQ', 'Most Active']\n",
      "['US NASDAQ', 'Top % Gainers']\n",
      "['US NASDAQ', 'Top % Losers']\n",
      "['US NYSE', 'Most Active']\n",
      "['US NYSE', 'Top % Gainers']\n",
      "['US NYSE', 'Top % Losers']\n",
      "['US OTC', 'Most Active']\n",
      "['US OTC', 'Top % Gainers']\n",
      "['US OTC', 'Top % Losers']\n"
     ]
    }
   ],
   "source": [
    "import re\n",
    "for market in markets:\n",
    "    for t in types:\n",
    "        try:\n",
    "            loc = 'page/' if re.search('US', market) == None else 'us/'\n",
    "            url = base+loc+types[t]+markets[market]+'.htm'\n",
    "            print([market, t])\n",
    "            # print(url)\n",
    "            stonks = getStonkData(url)\n",
    "            data.append(stonks)\n",
    "        except Exception as e:\n",
    "            print(e)\n",
    "            data.append(e)\n",
    "spamwriter.writerow(data)\n",
    "csvfile.close()"
   ]
  }
 ]
}