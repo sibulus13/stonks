{
 "metadata": {
  "language_info": {
   "codemirror_mode": {
    "name": "ipython",
    "version": 3
   },
   "file_extension": ".py",
   "mimetype": "text/x-python",
   "name": "python",
   "nbconvert_exporter": "python",
   "pygments_lexer": "ipython3",
   "version": "3.9.2"
  },
  "orig_nbformat": 2,
  "kernelspec": {
   "name": "python392jvsc74a57bd0ac59ebe37160ed0dfa835113d9b8498d9f09ceb179beaac4002f036b9467c963",
   "display_name": "Python 3.9.2 64-bit"
  },
  "metadata": {
   "interpreter": {
    "hash": "ac59ebe37160ed0dfa835113d9b8498d9f09ceb179beaac4002f036b9467c963"
   }
  }
 },
 "nbformat": 4,
 "nbformat_minor": 2,
 "cells": [
  {
   "cell_type": "code",
   "execution_count": 49,
   "metadata": {},
   "outputs": [],
   "source": [
    "import csv\r\n",
    "import pandas as pd\r\n",
    "path = r'Z:\\sibroot\\repo\\personal\\stonks\\stonkStatistics.csv'\r\n",
    "\r\n",
    "data = []\r\n",
    "with open(path, mode = 'r') as csvfile:\r\n",
    "    csv_reader = csv.reader(csvfile)\r\n",
    "    for row in csv_reader:\r\n",
    "        data.append(row)\r\n",
    "print(len(data[1][1]))\r\n",
    "print(data[0])\r\n",
    "gainers = []\r\n",
    "losers = []\r\n",
    "actives = []\r\n",
    "for i in data[0]:\r\n",
    "    if 'Gainers' in i:\r\n",
    "        gainers.append(i)\r\n",
    "    if 'Losers' in i:\r\n",
    "        losers.append(i)\r\n",
    "    if 'Active' in i:\r\n",
    "        actives.append(i)\r\n",
    "headers = data.pop(0)\r\n",
    "df = pd.DataFrame(data, columns = headers)"
   ]
  },
  {
   "cell_type": "code",
   "execution_count": 69,
   "metadata": {},
   "outputs": [
    {
     "output_type": "stream",
     "name": "stdout",
     "text": [
      "<class 'str'>\n"
     ]
    }
   ],
   "source": [
    "# print(df['TSX Top % Gainers'])\n",
    "tsxgainers = list(df['TSX Top % Gainers'])\n",
    "print(list(tsxgainers[0])\n"
   ]
  },
  {
   "cell_type": "code",
   "execution_count": null,
   "metadata": {},
   "outputs": [],
   "source": []
  }
 ]
}